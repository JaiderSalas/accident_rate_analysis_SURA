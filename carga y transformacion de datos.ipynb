{
 "cells": [
  {
   "cell_type": "code",
   "execution_count": 24,
   "metadata": {},
   "outputs": [],
   "source": [
    "import pandas as pd\n",
    "import os\n",
    "import warnings\n",
    "\n",
    "pd.set_option('display.max_rows', 50)"
   ]
  },
  {
   "cell_type": "markdown",
   "metadata": {},
   "source": [
    "## carga de datos\n",
    "\n",
    "se cargan los datos desde la carpeta `data`, la cual en nuestra arquitectura de nube vendria a ser nuestro data lake."
   ]
  },
  {
   "cell_type": "code",
   "execution_count": 14,
   "metadata": {},
   "outputs": [],
   "source": [
    "def load_data():\n",
    "    warnings.filterwarnings(\"ignore\")\n",
    "\n",
    "    PATH_TO_DATA = \"data\"\n",
    "\n",
    "    datos = []\n",
    "    for file in os.listdir(PATH_TO_DATA):\n",
    "        datos.append( pd.read_csv(os.path.join(PATH_TO_DATA, file), encoding=\"latin-1\") )\n",
    "\n",
    "    datos = pd.concat(datos, axis=0, ignore_index=True)\n",
    "\n",
    "    return datos"
   ]
  },
  {
   "cell_type": "markdown",
   "metadata": {},
   "source": [
    "## seleccion de columnas\n",
    "\n",
    "**Los datos vienen inicialmente con las siguientes columnas**\n",
    "\n",
    "- **BARRIO** : barrio de ocurrencia del incidente vial\n",
    "\n",
    "- **CBML**: Codigo catastral que corresponde al codigo comuna, barrio, manzana, lote catastral  de un predio.\n",
    "\n",
    "- **CLASE**: Clasificación del IPAT sobre la clase de accidente de transito: choque, atropello, volcamiento, caida de ocupante, incendio,  u otro (que no corresponde a las anteriores 5 clasificaciones, p. ej: sumersión)\n",
    "\n",
    "- **COMUNA**: Comuna de ocurrencia del incidente vial\n",
    "\n",
    "- **DIA**: Dia del mes de ocurrencia del incidente vial\n",
    "\n",
    "- **DIA_NOMBRE**: Día en que tiene ocurrencia del incidente vial\n",
    "\n",
    "- **DIRECCION**: Dirección donde ocurrió el incidente\n",
    "\n",
    "- **DIRECCION_ENC**: Dirección encasillada que entrega el geocodificador\n",
    "\n",
    "- **DISENO**: Sitio de la vía donde ocurrió el accidente: Cicloruta, Glorieta, Interseccion, Lote o Predio, Paso a Nivel, Paso Elevado, Paso Inferior, Pontón, Puente, Tramo de via, Tunel, Via peatonal\n",
    "\n",
    "- **FECHA**: Fecha del incidente, proviene del IPAT - Informe Policial de incidentes de Tránsito \n",
    "\n",
    "- **GRAVEDAD**: Clasificación del IPAT - Informe Policial de Accidentes de Tránsito, sobre la gravedad del accidente, corresponde al resultado más grave presentado en el accidente. Daños materiales \"Sólo daños\", accidente con heridos \"Herido\", accidente con muertos \"Muerto\". No indica cantidad\n",
    "\n",
    "- **HORA**: Hora del incidente, proviene del IPAT - Informe Policial de incidentes de Tránsito \n",
    "\n",
    "- **LATITUD**: Coordenada norte-sur para expresar la ubicación geográfica en el sistema de coordenadas WGS 84\n",
    "\n",
    "- **LONGITUD**: Coordenada este-oeste para expresar la ubicación geográfica en el sistema de coordenadas WGS 84\n",
    "\n",
    "- **MES**: Número de mes de ocurrencia del incidente vial\n",
    "\n",
    "- **MES_NOMBRE**: Nombre del mes de ocurrencia del incidente vial\n",
    "\n",
    "- **OBJECTID**: no esta en el diccionario de datos, sin embargo se puede suponer que es un identificador del registro\n",
    "\n",
    "- **PERIODO**: Año de ocurrencia del incidente\n",
    "\n",
    "- **RADICADO**: Consecutivo que asigna UNE, según el orden de llegada de los expedientes para su diligenciamiento\n",
    "\n",
    "- **Shape**: no esta en el diccionario de datos, y no se sabe bien que representa\n",
    "\n",
    "- **TIPO_GEOCOD**: Fuente de información con la cual se realizó la geocodificación\n",
    "\n",
    "- **X_MAGNAMED**: Coordenada X en metros, en sistema de coordenadas MAGNA Medellin Local (MAGNA_Medellin_Antioquia_2010 WKID: 6257 Authority: EPSG)\n",
    "\n",
    "- **Y_MAGNAMED**: Coordenada Y en metros, en sistema de coordenadas MAGNA Medellin Local (MAGNA_Medellin_Antioquia_2010 WKID: 6257 Authority: EPSG)\n",
    "\n",
    "\n",
    "se seleccionan las columnas que son importantes para el analisis"
   ]
  },
  {
   "cell_type": "code",
   "execution_count": 36,
   "metadata": {},
   "outputs": [],
   "source": [
    "def select_columns(datos):\n",
    "    droped_cols = [\n",
    "        \"OBJECTID\", # no es util para el analisis\n",
    "        \"Shape\",    # no se sabe que es\n",
    "        \"RADICADO\", # no es util para el analisis\n",
    "    ]\n",
    "\n",
    "    return datos.drop(columns=droped_cols)"
   ]
  },
  {
   "cell_type": "markdown",
   "metadata": {},
   "source": [
    "## limpieza de los datos\n",
    "\n",
    "se evalua que informacion requiere una limpieza"
   ]
  },
  {
   "cell_type": "code",
   "execution_count": 91,
   "metadata": {},
   "outputs": [
    {
     "name": "stdout",
     "output_type": "stream",
     "text": [
      "<class 'pandas.core.frame.DataFrame'>\n",
      "RangeIndex: 315087 entries, 0 to 315086\n",
      "Data columns (total 20 columns):\n",
      " #   Column         Non-Null Count   Dtype  \n",
      "---  ------         --------------   -----  \n",
      " 0   FECHA          315087 non-null  object \n",
      " 1   HORA           315087 non-null  object \n",
      " 2   DIA            315087 non-null  int64  \n",
      " 3   PERIODO        315087 non-null  int64  \n",
      " 4   CLASE          315081 non-null  object \n",
      " 5   DIRECCION      315087 non-null  object \n",
      " 6   DIRECCION_ENC  313785 non-null  object \n",
      " 7   CBML           292794 non-null  object \n",
      " 8   TIPO_GEOCOD    315087 non-null  object \n",
      " 9   GRAVEDAD       315087 non-null  object \n",
      " 10  BARRIO         291948 non-null  object \n",
      " 11  COMUNA         293830 non-null  object \n",
      " 12  DISENO         313803 non-null  object \n",
      " 13  DIA_NOMBRE     315087 non-null  object \n",
      " 14  MES            315087 non-null  int64  \n",
      " 15  MES_NOMBRE     86394 non-null   object \n",
      " 16  X_MAGNAMED     315087 non-null  float64\n",
      " 17  Y_MAGNAMED     315087 non-null  float64\n",
      " 18  LONGITUD       315087 non-null  float64\n",
      " 19  LATITUD        315087 non-null  float64\n",
      "dtypes: float64(4), int64(3), object(13)\n",
      "memory usage: 48.1+ MB\n"
     ]
    }
   ],
   "source": [
    "datos = load_data()\n",
    "datos = select_columns(datos)\n",
    "\n",
    "datos.info()"
   ]
  },
  {
   "cell_type": "markdown",
   "metadata": {},
   "source": [
    "#### se hicieron los siguientes hallazgos:\n",
    "\n",
    " - **FECHA**: no tiene el tipo de dato correcto, se convierte a tipo fecha\n",
    "\n",
    " - **HORA**: no tiene el tipo de dato correcto, se convierte a tipo hora\n",
    "\n",
    " - **CLASE**: contiene algunos valores nulos, se reemplazan estos valores con la palabra `No registra`\n",
    "\n",
    " - **DIRECCION_ENC**: contiene algunos valores nulos, se reemplazan estos valores con la palabra `No registra`\n",
    "\n",
    " - **CBML**: contiene algunos valores nulos, se reemplazan estos valores con la palabra `No registra`\n",
    "\n",
    " - **BARRIO**: contiene algunos valores nulos, se reemplazan estos valores con la palabra `No registra`\n",
    "\n",
    " - **COMUNA**: contiene algunos valores nulos, se reemplazan estos valores con la palabra `No registra`\n",
    "\n",
    " - **DISENO**: contiene algunos valores nulos, se reemplazan estos valores con la palabra `No registra`\n",
    "\n",
    " - **MES_NOMBRE**: contiene algunos valores nulos, se reemplazan estos valores segun su valor en la columna `MES`"
   ]
  },
  {
   "cell_type": "code",
   "execution_count": 100,
   "metadata": {},
   "outputs": [],
   "source": [
    "def clean_data(datos):\n",
    "    # eliminar datos duplicados\n",
    "    datos.drop_duplicates(inplace=True)\n",
    "\n",
    "    # convertir fechas a tipo de dato datetime\n",
    "    datos[\"FECHA\"] = pd.to_datetime(datos[\"FECHA\"], format=\"%Y-%m-%d %H:%M:%S\")\n",
    "\n",
    "    # convertir hora a tipo de dato time\n",
    "    datos[\"HORA\"] = pd.to_datetime(datos[\"HORA\"], format=\"mixed\").dt.time\n",
    "\n",
    "    # reemplazar valores nulos\n",
    "    cols_na = [\"CLASE\", \"DIRECCION_ENC\", \"CBML\", \"BARRIO\", \"COMUNA\", \"DISENO\"]\n",
    "    for col in cols_na:\n",
    "        datos[col].fillna(\"No registra\", inplace=True)\n",
    "\n",
    "    meses = {1: \"ENERO\", 2: \"FEBRERO\", 3: \"MARZO\", 4: \"ABRIL\", 5: \"MAYO\", 6: \"JUNIO\", 7: \"JULIO\", 8: \"AGOSTO\", 9: \"SEPTIEMBRE\", 10: \"OCTUBRE\", 11: \"NOVIEMBRE\", 12: \"DICIEMBRE\"}\n",
    "    datos[\"MES_NOMBRE\"] = datos[\"MES\"].apply(lambda x: meses[x])\n",
    "    \n",
    "    return datos"
   ]
  },
  {
   "cell_type": "markdown",
   "metadata": {},
   "source": [
    "## datos limpios"
   ]
  },
  {
   "cell_type": "code",
   "execution_count": 102,
   "metadata": {},
   "outputs": [],
   "source": [
    "def get_data():\n",
    "    datos = load_data()\n",
    "    datos = select_columns(datos)\n",
    "    datos = clean_data(datos)\n",
    "\n",
    "    return datos"
   ]
  },
  {
   "cell_type": "code",
   "execution_count": 103,
   "metadata": {},
   "outputs": [
    {
     "name": "stdout",
     "output_type": "stream",
     "text": [
      "<class 'pandas.core.frame.DataFrame'>\n",
      "RangeIndex: 315087 entries, 0 to 315086\n",
      "Data columns (total 20 columns):\n",
      " #   Column         Non-Null Count   Dtype         \n",
      "---  ------         --------------   -----         \n",
      " 0   FECHA          315087 non-null  datetime64[ns]\n",
      " 1   HORA           315087 non-null  object        \n",
      " 2   DIA            315087 non-null  int64         \n",
      " 3   PERIODO        315087 non-null  int64         \n",
      " 4   CLASE          315087 non-null  object        \n",
      " 5   DIRECCION      315087 non-null  object        \n",
      " 6   DIRECCION_ENC  315087 non-null  object        \n",
      " 7   CBML           315087 non-null  object        \n",
      " 8   TIPO_GEOCOD    315087 non-null  object        \n",
      " 9   GRAVEDAD       315087 non-null  object        \n",
      " 10  BARRIO         315087 non-null  object        \n",
      " 11  COMUNA         315087 non-null  object        \n",
      " 12  DISENO         315087 non-null  object        \n",
      " 13  DIA_NOMBRE     315087 non-null  object        \n",
      " 14  MES            315087 non-null  int64         \n",
      " 15  MES_NOMBRE     315087 non-null  object        \n",
      " 16  X_MAGNAMED     315087 non-null  float64       \n",
      " 17  Y_MAGNAMED     315087 non-null  float64       \n",
      " 18  LONGITUD       315087 non-null  float64       \n",
      " 19  LATITUD        315087 non-null  float64       \n",
      "dtypes: datetime64[ns](1), float64(4), int64(3), object(12)\n",
      "memory usage: 48.1+ MB\n"
     ]
    }
   ],
   "source": [
    "datos = get_data()\n",
    "\n",
    "datos.info()"
   ]
  }
 ],
 "metadata": {
  "kernelspec": {
   "display_name": "Python 3",
   "language": "python",
   "name": "python3"
  },
  "language_info": {
   "codemirror_mode": {
    "name": "ipython",
    "version": 3
   },
   "file_extension": ".py",
   "mimetype": "text/x-python",
   "name": "python",
   "nbconvert_exporter": "python",
   "pygments_lexer": "ipython3",
   "version": "3.11.4"
  }
 },
 "nbformat": 4,
 "nbformat_minor": 2
}
